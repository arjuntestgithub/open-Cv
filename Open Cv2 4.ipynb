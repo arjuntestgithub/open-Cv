{
 "cells": [
  {
   "cell_type": "code",
   "execution_count": 2,
   "id": "94fda4dd",
   "metadata": {},
   "outputs": [],
   "source": [
    "import cv2"
   ]
  },
  {
   "cell_type": "code",
   "execution_count": 4,
   "id": "2997912a",
   "metadata": {},
   "outputs": [],
   "source": [
    "# video capture by camera\n"
   ]
  },
  {
   "cell_type": "code",
   "execution_count": 5,
   "id": "347b8400",
   "metadata": {},
   "outputs": [],
   "source": [
    "cap=cv2.VideoCapture(0)\n",
    "\n",
    "while True:\n",
    "    r,frame = cap.read()\n",
    "    if r==True:\n",
    "        frame=cv2.resize(frame,(500,500))\n",
    "        cv2.imshow(\"wscube\",frame)\n",
    "        if cv2.waitKey(35)  & 0xff ==ord(\"p\"):\n",
    "            break\n",
    "    else:\n",
    "        break\n",
    "        \n",
    "cap.release()\n",
    "cv2.destroyAllWindows()    "
   ]
  },
  {
   "cell_type": "code",
   "execution_count": 6,
   "id": "9029a112",
   "metadata": {},
   "outputs": [],
   "source": [
    "# slow motion and Fast Motion "
   ]
  },
  {
   "cell_type": "code",
   "execution_count": 9,
   "id": "72e2d89b",
   "metadata": {},
   "outputs": [],
   "source": [
    "# slow Motion\n",
    "\n",
    "cap=cv2.VideoCapture(r\"C:\\Users\\arjun\\Downloads\\production_id_4875313 (2160p).MP4\")\n",
    "\n",
    "while cap.isOpened():\n",
    "    r,frame = cap.read()\n",
    "    if r==True:\n",
    "        frame=cv2.resize(frame,(500,500))\n",
    "        cv2.imshow(\"wscube\",frame)\n",
    "        if cv2.waitKey(100)  & 0xff ==ord(\"p\"):\n",
    "            break\n",
    "    else:\n",
    "        break\n",
    "        \n",
    "cap.release()\n",
    "cv2.destroyAllWindows()                "
   ]
  },
  {
   "cell_type": "code",
   "execution_count": 10,
   "id": "fa73ccd2",
   "metadata": {},
   "outputs": [],
   "source": [
    "# Fast Motion\n",
    "\n",
    "cap=cv2.VideoCapture(r\"C:\\Users\\arjun\\Downloads\\production_id_4875313 (2160p).MP4\")\n",
    "\n",
    "while cap.isOpened():\n",
    "    r,frame = cap.read()\n",
    "    if r==True:\n",
    "        frame=cv2.resize(frame,(500,500))\n",
    "        cv2.imshow(\"wscube\",frame)\n",
    "        if cv2.waitKey(5)  & 0xff ==ord(\"p\"):\n",
    "            break\n",
    "    else:\n",
    "        break\n",
    "        \n",
    "cap.release()\n",
    "cv2.destroyAllWindows()                "
   ]
  },
  {
   "cell_type": "code",
   "execution_count": 11,
   "id": "0d5f1a42",
   "metadata": {},
   "outputs": [],
   "source": [
    "# morphological operation on Video"
   ]
  },
  {
   "cell_type": "code",
   "execution_count": 14,
   "id": "0d7c0b81",
   "metadata": {},
   "outputs": [],
   "source": [
    "#Erosion Opeartion\n",
    "import numpy as np"
   ]
  },
  {
   "cell_type": "code",
   "execution_count": 21,
   "id": "b7ee5e85",
   "metadata": {},
   "outputs": [],
   "source": [
    "mypath = r'''C:\\Users\\arjun\\OneDrive\\Desktop\\skeleton-head-technology-bone-wallpaper-preview.jpg'''\n",
    "img = cv2.imread(mypath)\n",
    "resize=cv2.resize(img,(500,500))\n",
    "\n",
    "m=np.ones((5,5),np.int8)\n",
    "#print(m)\n",
    "\n",
    "sr=cv2.erode(resize,m,iterations =1)\n",
    "cv2.imshow(\"Original image\", resize)\n",
    "cv2.imshow(\"Original image1\", sr)\n",
    "\n",
    "cv2.waitKey(0)\n",
    "cv2.destroyAllWindows() "
   ]
  },
  {
   "cell_type": "code",
   "execution_count": 20,
   "id": "ba37e99d",
   "metadata": {},
   "outputs": [],
   "source": [
    "mypath = r'''C:\\Users\\arjun\\OneDrive\\Desktop\\skeleton-head-technology-bone-wallpaper-preview.jpg'''\n",
    "img = cv2.imread(mypath)\n",
    "resize=cv2.resize(img,(500,500))\n",
    "\n",
    "m=np.ones((10,10),np.int8)\n",
    "#print(m)\n",
    "\n",
    "sr=cv2.erode(resize,m,iterations =1)\n",
    "cv2.imshow(\"Original image\", resize)\n",
    "cv2.imshow(\"Original image1\", sr)\n",
    "\n",
    "cv2.waitKey(0)\n",
    "cv2.destroyAllWindows() "
   ]
  },
  {
   "cell_type": "code",
   "execution_count": 22,
   "id": "a416d2be",
   "metadata": {},
   "outputs": [],
   "source": [
    "# Dilation"
   ]
  },
  {
   "cell_type": "code",
   "execution_count": 24,
   "id": "82ff5851",
   "metadata": {},
   "outputs": [],
   "source": [
    "mypath = r'''C:\\Users\\arjun\\OneDrive\\Desktop\\skeleton-head-technology-bone-wallpaper-preview.jpg'''\n",
    "img = cv2.imread(mypath)\n",
    "resize=cv2.resize(img,(500,500))\n",
    "\n",
    "m=np.ones((5,5),np.int8)\n",
    "#print(m)\n",
    "\n",
    "sr=cv2.dilate(resize,m,iterations =1)\n",
    "cv2.imshow(\"Original image\", resize)\n",
    "cv2.imshow(\"Original image1\", sr)\n",
    "\n",
    "cv2.waitKey(0)\n",
    "cv2.destroyAllWindows() "
   ]
  },
  {
   "cell_type": "code",
   "execution_count": 25,
   "id": "cf26d747",
   "metadata": {},
   "outputs": [],
   "source": [
    "# morphological Operations"
   ]
  },
  {
   "cell_type": "code",
   "execution_count": 27,
   "id": "9c5a63af",
   "metadata": {},
   "outputs": [],
   "source": [
    "mypath = r'''C:\\Users\\arjun\\OneDrive\\Desktop\\skeleton-head-technology-bone-wallpaper-preview.jpg'''\n",
    "img = cv2.imread(mypath)\n",
    "resize=cv2.resize(img,(500,500))\n",
    "\n",
    "m=np.ones((5,5),np.int8)\n",
    "#print(m)\n",
    "\n",
    "#sr=cv2.dilate(resize,m,iterations =1)\n",
    "sr=cv2.morphologyEx(resize,cv2.MORPH_OPEN,m,iterations =1)\n",
    "cv2.imshow(\"Original image\", resize)\n",
    "cv2.imshow(\"Original image1\", sr)\n",
    "\n",
    "cv2.waitKey(0)\n",
    "cv2.destroyAllWindows() "
   ]
  },
  {
   "cell_type": "code",
   "execution_count": 28,
   "id": "4b78576f",
   "metadata": {},
   "outputs": [],
   "source": [
    "mypath = r'''C:\\Users\\arjun\\OneDrive\\Desktop\\skeleton-head-technology-bone-wallpaper-preview.jpg'''\n",
    "img = cv2.imread(mypath)\n",
    "resize=cv2.resize(img,(500,500))\n",
    "\n",
    "m=np.ones((5,5),np.int8)\n",
    "#print(m)\n",
    "\n",
    "#sr=cv2.dilate(resize,m,iterations =1)\n",
    "sr=cv2.morphologyEx(resize,cv2.MORPH_CLOSE,m,iterations =1)\n",
    "cv2.imshow(\"Original image\", resize)\n",
    "cv2.imshow(\"Original image1\", sr)\n",
    "\n",
    "cv2.waitKey(0)\n",
    "cv2.destroyAllWindows() "
   ]
  },
  {
   "cell_type": "code",
   "execution_count": 29,
   "id": "3cbb6011",
   "metadata": {},
   "outputs": [],
   "source": [
    "mypath = r'''C:\\Users\\arjun\\OneDrive\\Desktop\\skeleton-head-technology-bone-wallpaper-preview.jpg'''\n",
    "img = cv2.imread(mypath)\n",
    "resize=cv2.resize(img,(500,500))\n",
    "\n",
    "m=np.ones((5,5),np.int8)\n",
    "#print(m)\n",
    "\n",
    "#sr=cv2.dilate(resize,m,iterations =1)\n",
    "sr=cv2.morphologyEx(resize,cv2.MORPH_GRADIENT,m,iterations =1)\n",
    "cv2.imshow(\"Original image\", resize)\n",
    "cv2.imshow(\"Original image1\", sr)\n",
    "\n",
    "cv2.waitKey(0)\n",
    "cv2.destroyAllWindows() "
   ]
  },
  {
   "cell_type": "code",
   "execution_count": 30,
   "id": "3b971113",
   "metadata": {},
   "outputs": [],
   "source": [
    "mypath = r'''C:\\Users\\arjun\\OneDrive\\Desktop\\skeleton-head-technology-bone-wallpaper-preview.jpg'''\n",
    "img = cv2.imread(mypath)\n",
    "resize=cv2.resize(img,(500,500))\n",
    "\n",
    "m=np.ones((5,5),np.int8)\n",
    "#print(m)\n",
    "\n",
    "#sr=cv2.dilate(resize,m,iterations =1)\n",
    "sr=cv2.morphologyEx(resize,cv2.MORPH_TOPHAT,m,iterations =1)\n",
    "cv2.imshow(\"Original image\", resize)\n",
    "cv2.imshow(\"Original image1\", sr)\n",
    "\n",
    "cv2.waitKey(0)\n",
    "cv2.destroyAllWindows() "
   ]
  },
  {
   "cell_type": "code",
   "execution_count": 31,
   "id": "b9e18f81",
   "metadata": {},
   "outputs": [],
   "source": [
    "mypath = r'''C:\\Users\\arjun\\OneDrive\\Desktop\\skeleton-head-technology-bone-wallpaper-preview.jpg'''\n",
    "img = cv2.imread(mypath)\n",
    "resize=cv2.resize(img,(500,500))\n",
    "\n",
    "m=np.ones((5,5),np.int8)\n",
    "#print(m)\n",
    "\n",
    "#sr=cv2.dilate(resize,m,iterations =1)\n",
    "sr=cv2.morphologyEx(resize,cv2.MORPH_BLACKHAT,m,iterations =1)\n",
    "cv2.imshow(\"Original image\", resize)\n",
    "cv2.imshow(\"Original image1\", sr)\n",
    "\n",
    "cv2.waitKey(0)\n",
    "cv2.destroyAllWindows() "
   ]
  },
  {
   "cell_type": "code",
   "execution_count": 32,
   "id": "3c5b9fc5",
   "metadata": {},
   "outputs": [],
   "source": [
    "# pyramid of Image"
   ]
  },
  {
   "cell_type": "code",
   "execution_count": 39,
   "id": "e7ddf04c",
   "metadata": {},
   "outputs": [
    {
     "name": "stdout",
     "output_type": "stream",
     "text": [
      "(410, 728, 3)\n",
      "(205, 364, 3)\n",
      "(205, 364, 3)\n",
      "(205, 364, 3)\n"
     ]
    }
   ],
   "source": [
    "mypath = r'''C:\\Users\\arjun\\OneDrive\\Desktop\\skeleton-head-technology-bone-wallpaper-preview.jpg'''\n",
    "img = cv2.imread(mypath)\n",
    "print(img.shape)\n",
    "\n",
    "sr=cv2.pyrDown(img)\n",
    "print(sr.shape)\n",
    "\n",
    "dr=cv2.pyrDown(sr)\n",
    "print(sr.shape)\n",
    "\n",
    "tr=cv2.pyrDown(dr)\n",
    "print(sr.shape)\n",
    "\n",
    "\n",
    "cv2.imshow(\"Original image\",img)\n",
    "\n",
    "cv2.imshow(\"Original image1\", sr)\n",
    "cv2.imshow(\"Original image2\", dr)\n",
    "cv2.imshow(\"Original image3\", tr)\n",
    "\n",
    "cv2.waitKey(0)\n",
    "cv2.destroyAllWindows() "
   ]
  },
  {
   "cell_type": "code",
   "execution_count": 43,
   "id": "c9683f3c",
   "metadata": {},
   "outputs": [
    {
     "name": "stdout",
     "output_type": "stream",
     "text": [
      "(410, 728, 3)\n",
      "(820, 1456, 3)\n",
      "(820, 1456, 3)\n",
      "(820, 1456, 3)\n"
     ]
    }
   ],
   "source": [
    "mypath = r'''C:\\Users\\arjun\\OneDrive\\Desktop\\skeleton-head-technology-bone-wallpaper-preview.jpg'''\n",
    "img = cv2.imread(mypath)\n",
    "print(img.shape)\n",
    "\n",
    "sr=cv2.pyrUp(img)\n",
    "print(sr.shape)\n",
    "\n",
    "dr=cv2.pyrDown(sr)\n",
    "print(sr.shape)\n",
    "\n",
    "tr=cv2.pyrDown(dr)\n",
    "print(sr.shape)\n",
    "\n",
    "\n",
    "cv2.imshow(\"Original image\",img)\n",
    "\n",
    "cv2.imshow(\"Original image1\", sr)\n",
    "cv2.imshow(\"Original image2\", dr)\n",
    "cv2.imshow(\"Original image3\", tr)\n",
    "\n",
    "cv2.waitKey(0)\n",
    "cv2.destroyAllWindows() "
   ]
  },
  {
   "cell_type": "code",
   "execution_count": 44,
   "id": "042dfd19",
   "metadata": {},
   "outputs": [],
   "source": [
    "# image Translation"
   ]
  },
  {
   "cell_type": "code",
   "execution_count": 56,
   "id": "9c57e393",
   "metadata": {},
   "outputs": [],
   "source": [
    "mypath = r'''C:\\Users\\arjun\\OneDrive\\Desktop\\skeleton-head-technology-bone-wallpaper-preview.jpg'''\n",
    "img = cv2.imread(mypath)\n",
    "resize=cv2.resize(img,(500,500))\n",
    "\n",
    "m=np.float32([[1,0,10],[0,1,10]])\n",
    "\n",
    "rs=cv2.warpAffine(resize,m,(500,500))\n",
    "\n",
    "\n",
    "cv2.imshow(\"Original image\",rs)\n",
    "#cv2.imshow(\"Original image1\",img)\n",
    "\n",
    "#cv2.imshow(\"Original image2\",m)\n",
    "\n",
    "\n",
    "\n",
    "\n",
    "cv2.waitKey(0)\n",
    "cv2.destroyAllWindows() "
   ]
  },
  {
   "cell_type": "code",
   "execution_count": 57,
   "id": "61ac3536",
   "metadata": {},
   "outputs": [],
   "source": [
    "# image Geomatric Translation"
   ]
  },
  {
   "cell_type": "code",
   "execution_count": 62,
   "id": "e25966c4",
   "metadata": {},
   "outputs": [],
   "source": [
    "# Background Structure remove of video"
   ]
  },
  {
   "cell_type": "code",
   "execution_count": 63,
   "id": "5084d453",
   "metadata": {},
   "outputs": [],
   "source": [
    "cap=cv2.VideoCapture(r\"C:\\Users\\arjun\\Downloads\\production_id_4875313 (2160p).MP4\")\n",
    "sub_m=cv2.createBackgroundSubtractorMOG2()\n",
    "while True:\n",
    "    r,frame = cap.read()\n",
    "    if r==True:\n",
    "        frame=cv2.resize(frame,(500,500))\n",
    "        sub_v=sub_m.apply(frame)\n",
    "        cv2.imshow(\"arjun\",sub_v)\n",
    "        cv2.imshow(\"wscube\",frame)\n",
    "        if cv2.waitKey(25)  & 0xff ==ord(\"p\"):\n",
    "            break\n",
    "    else:\n",
    "        break\n",
    "        \n",
    "cap.release()\n",
    "cv2.destroyAllWindows()    "
   ]
  },
  {
   "cell_type": "code",
   "execution_count": 3,
   "id": "882a9284",
   "metadata": {},
   "outputs": [],
   "source": [
    "# extract Image from video "
   ]
  },
  {
   "cell_type": "markdown",
   "id": "bfc0dd79",
   "metadata": {},
   "source": []
  },
  {
   "cell_type": "code",
   "execution_count": 4,
   "id": "ecad1f3b",
   "metadata": {},
   "outputs": [],
   "source": [
    "# extract Image from video "
   ]
  },
  {
   "cell_type": "code",
   "execution_count": 6,
   "id": "09f01378",
   "metadata": {},
   "outputs": [],
   "source": [
    "cap=cv2.VideoCapture(r\"C:\\Users\\arjun\\Downloads\\production_id_4875313 (2160p).MP4\")\n",
    "c=0\n",
    "while cap.isOpened():\n",
    "    r,frame = cap.read()\n",
    "    if r==True:\n",
    "        frame=cv2.resize(frame,(500,500))\n",
    "        file_name=\"C://Users//arjun//Downloads//org_img\"+str(c)+\".jpg\"\n",
    "        cv2.imwrite(file_name,frame)\n",
    "        cv2.imshow(\"wscube\",frame)\n",
    "        c=+1\n",
    "        if cv2.waitKey(25)  & 0xff ==ord(\"p\"):\n",
    "            break\n",
    "    else:\n",
    "        break\n",
    "        \n",
    "cap.release()\n",
    "cv2.destroyAllWindows()                "
   ]
  },
  {
   "cell_type": "code",
   "execution_count": 7,
   "id": "3cd2396a",
   "metadata": {},
   "outputs": [],
   "source": [
    "#cvt Colour Method"
   ]
  },
  {
   "cell_type": "code",
   "execution_count": 10,
   "id": "20c529a3",
   "metadata": {},
   "outputs": [],
   "source": [
    "mypath = r'''C:\\Users\\arjun\\OneDrive\\Desktop\\skeleton-head-technology-bone-wallpaper-preview.jpg'''\n",
    "img = cv2.imread(mypath)\n",
    "resize=cv2.resize(img,(500,500))\n",
    "\n",
    "m=cv2.cvtColor(resize,cv2.COLOR_BGRA2GRAY)\n",
    "\n",
    "\n",
    "cv2.imshow(\"Original image1\",img)\n",
    "\n",
    "cv2.imshow(\"Original image2\",m)\n",
    "\n",
    "\n",
    "\n",
    "\n",
    "cv2.waitKey(0)\n",
    "cv2.destroyAllWindows() "
   ]
  },
  {
   "cell_type": "code",
   "execution_count": 11,
   "id": "3e8fb0b3",
   "metadata": {},
   "outputs": [],
   "source": [
    "# crop Image"
   ]
  },
  {
   "cell_type": "code",
   "execution_count": 16,
   "id": "3288aad6",
   "metadata": {},
   "outputs": [
    {
     "name": "stdout",
     "output_type": "stream",
     "text": [
      "(410, 728, 3)\n"
     ]
    }
   ],
   "source": [
    "mypath = r'''C:\\Users\\arjun\\OneDrive\\Desktop\\skeleton-head-technology-bone-wallpaper-preview.jpg'''\n",
    "img = cv2.imread(mypath)\n",
    "resize=cv2.resize(img,(500,500))\n",
    "print(img.shape)\n",
    "\n",
    "crop=img[200::,400::]\n",
    "cv2.imshow(\"Original image1\",img)\n",
    "\n",
    "cv2.imshow(\"Original image2\",crop)\n",
    "\n",
    "\n",
    "\n",
    "\n",
    "cv2.waitKey(0)\n",
    "cv2.destroyAllWindows() "
   ]
  },
  {
   "cell_type": "code",
   "execution_count": 46,
   "id": "1a40a5e1",
   "metadata": {},
   "outputs": [],
   "source": [
    "# create Blaank  white Image \n",
    "import numpy as np"
   ]
  },
  {
   "cell_type": "code",
   "execution_count": 47,
   "id": "e18f8140",
   "metadata": {},
   "outputs": [],
   "source": [
    "mypath = r'''C:\\Users\\arjun\\OneDrive\\Desktop\\skeleton-head-technology-bone-wallpaper-preview.jpg'''\n",
    "img = cv2.imread(mypath)\n",
    "resize=cv2.resize(img,(500,500))\n",
    "#print(img.shape)\n",
    "#new=np.ones((5,5))\n",
    "#new.dtype\n",
    "#new=np.ones((5,5)).astype(np.int8)\n",
    "#new.dtype\n",
    "#new*255\n",
    "new=np.ones((400,700,3)).astype(np.uint8)*255\n",
    "cv2.imshow(\"Original image1\",img)\n",
    "cv2.imshow(\"Original image2\",new)\n",
    "\n",
    "\n",
    "\n",
    "\n",
    "\n",
    "cv2.waitKey(0)\n",
    "cv2.destroyAllWindows() "
   ]
  },
  {
   "cell_type": "code",
   "execution_count": 48,
   "id": "c96eb11a",
   "metadata": {},
   "outputs": [],
   "source": [
    "mypath = r'''C:\\Users\\arjun\\OneDrive\\Desktop\\skeleton-head-technology-bone-wallpaper-preview.jpg'''\n",
    "img = cv2.imread(mypath)\n",
    "resize=cv2.resize(img,(500,500))\n",
    "#print(img.shape)\n",
    "#new=np.ones((5,5))\n",
    "#new.dtype\n",
    "#new=np.ones((5,5)).astype(np.int8)\n",
    "#new.dtype\n",
    "#new*255\n",
    "new=np.zeros((400,700,3)).astype(np.uint8)*255\n",
    "cv2.imshow(\"Original image1\",img)\n",
    "cv2.imshow(\"Original image2\",new)\n",
    "\n",
    "\n",
    "\n",
    "\n",
    "\n",
    "cv2.waitKey(0)\n",
    "cv2.destroyAllWindows() "
   ]
  },
  {
   "cell_type": "code",
   "execution_count": 49,
   "id": "3f008331",
   "metadata": {},
   "outputs": [],
   "source": [
    "# Colour Picker using Open Cv"
   ]
  },
  {
   "cell_type": "code",
   "execution_count": 60,
   "id": "a54641c5",
   "metadata": {},
   "outputs": [],
   "source": [
    "def wscube(x):\n",
    "    pass"
   ]
  },
  {
   "cell_type": "code",
   "execution_count": 66,
   "id": "f220633d",
   "metadata": {},
   "outputs": [
    {
     "ename": "error",
     "evalue": "OpenCV(4.7.0) D:\\a\\opencv-python\\opencv-python\\opencv\\modules\\highgui\\src\\window.cpp:866: error: (-215:Assertion failed) trackbar in function 'cv::getTrackbarPos'\n",
     "output_type": "error",
     "traceback": [
      "\u001b[1;31m-------------------------\u001b[0m",
      "\u001b[1;31merror\u001b[0mTraceback (most recent call last)",
      "Cell \u001b[1;32mIn[66], line 12\u001b[0m\n\u001b[0;32m     10\u001b[0m     \u001b[38;5;28;01mbreak\u001b[39;00m\n\u001b[0;32m     11\u001b[0m r\u001b[38;5;241m=\u001b[39mcv2\u001b[38;5;241m.\u001b[39mgetTrackbarPos(\u001b[38;5;124m\"\u001b[39m\u001b[38;5;124mR\u001b[39m\u001b[38;5;124m\"\u001b[39m,\u001b[38;5;124m\"\u001b[39m\u001b[38;5;124mcolour\u001b[39m\u001b[38;5;124m\"\u001b[39m)\n\u001b[1;32m---> 12\u001b[0m g\u001b[38;5;241m=\u001b[39m\u001b[43mcv2\u001b[49m\u001b[38;5;241;43m.\u001b[39;49m\u001b[43mgetTrackbarPos\u001b[49m\u001b[43m(\u001b[49m\u001b[38;5;124;43m\"\u001b[39;49m\u001b[38;5;124;43mG\u001b[39;49m\u001b[38;5;124;43m\"\u001b[39;49m\u001b[43m,\u001b[49m\u001b[38;5;124;43m\"\u001b[39;49m\u001b[38;5;124;43mcolour\u001b[39;49m\u001b[38;5;124;43m\"\u001b[39;49m\u001b[43m)\u001b[49m\n\u001b[0;32m     13\u001b[0m b\u001b[38;5;241m=\u001b[39mcv2\u001b[38;5;241m.\u001b[39mgetTrackbarPos(\u001b[38;5;124m\"\u001b[39m\u001b[38;5;124mB\u001b[39m\u001b[38;5;124m\"\u001b[39m,\u001b[38;5;124m\"\u001b[39m\u001b[38;5;124mcolour\u001b[39m\u001b[38;5;124m\"\u001b[39m)\n\u001b[0;32m     16\u001b[0m new[:] \u001b[38;5;241m=\u001b[39m [b,g,r]\n",
      "\u001b[1;31merror\u001b[0m: OpenCV(4.7.0) D:\\a\\opencv-python\\opencv-python\\opencv\\modules\\highgui\\src\\window.cpp:866: error: (-215:Assertion failed) trackbar in function 'cv::getTrackbarPos'\n"
     ]
    }
   ],
   "source": [
    "\n",
    "\n",
    "\n",
    "new=np.zeros((500,500,3)).astype(np.uint8)*255\n",
    "cv2.namedWindow(\"colour\")\n",
    "cv2.createTrackbar(\"R\",\"colour\",0,255,wscube)\n",
    "cv2.createTrackbar(\"B\",\"colour\",0,255,wscube)\n",
    "cv2.createTrackbar(\"G\",\"colour\",0,255,wscube)\n",
    "\n",
    "while True:\n",
    "    cv2.imshow(\"colour\",new)\n",
    "    if cv2.waitKey(1)  & 0xff ==ord(\"p\"):\n",
    "        break\n",
    "    r=cv2.getTrackbarPos(\"R\",\"colour\")\n",
    "    g=cv2.getTrackbarPos(\"G\",\"colour\")\n",
    "    b=cv2.getTrackbarPos(\"B\",\"colour\")\n",
    "    \n",
    "    \n",
    "    new[:] = [b,g,r]\n",
    "    \n",
    "    \n",
    "cv2.destroyAllWindows() "
   ]
  },
  {
   "cell_type": "code",
   "execution_count": null,
   "id": "e63fcd03",
   "metadata": {},
   "outputs": [],
   "source": []
  },
  {
   "cell_type": "code",
   "execution_count": null,
   "id": "2c82242f",
   "metadata": {},
   "outputs": [],
   "source": []
  },
  {
   "cell_type": "code",
   "execution_count": null,
   "id": "cb0027f3",
   "metadata": {},
   "outputs": [],
   "source": []
  },
  {
   "cell_type": "code",
   "execution_count": null,
   "id": "959a46d8",
   "metadata": {},
   "outputs": [],
   "source": []
  },
  {
   "cell_type": "code",
   "execution_count": null,
   "id": "2059ecfb",
   "metadata": {},
   "outputs": [],
   "source": []
  }
 ],
 "metadata": {
  "kernelspec": {
   "display_name": "Python 3 (ipykernel)",
   "language": "python",
   "name": "python3"
  },
  "language_info": {
   "codemirror_mode": {
    "name": "ipython",
    "version": 3
   },
   "file_extension": ".py",
   "mimetype": "text/x-python",
   "name": "python",
   "nbconvert_exporter": "python",
   "pygments_lexer": "ipython3",
   "version": "3.10.9"
  }
 },
 "nbformat": 4,
 "nbformat_minor": 5
}
