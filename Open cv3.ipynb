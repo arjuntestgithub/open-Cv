{
 "cells": [
  {
   "cell_type": "code",
   "execution_count": 1,
   "id": "8b007be1",
   "metadata": {},
   "outputs": [],
   "source": [
    "import cv2"
   ]
  },
  {
   "cell_type": "code",
   "execution_count": 3,
   "id": "bf92c406",
   "metadata": {},
   "outputs": [],
   "source": [
    "# image overlop "
   ]
  },
  {
   "cell_type": "code",
   "execution_count": 4,
   "id": "00222cf2",
   "metadata": {},
   "outputs": [],
   "source": [
    "mypath=r'''C:\\Users\\arjun\\OneDrive\\Desktop\\skeleton-head-technology-bone-wallpaper-preview.jpg'''\n",
    "mypath1=r'''C:\\Users\\arjun\\OneDrive\\Desktop\\istockphoto-1409466493-612x612.jpg '''\n",
    "img4=cv2.imread(mypath)\n",
    "img2=cv2.imread(mypath1)\n",
    "\n",
    "\n",
    "img4=cv2.resize(img4,(500,500))\n",
    "\n",
    "img2=cv2.resize(img2,(500,500))\n",
    "\n",
    "#new_image=cv2.addWeighted(img4,1,img2,1,1)\n",
    "new_image=cv2.subtract(img4,img2)\n",
    "\n",
    "cv2.imshow(\"orginal_image\",new_image)\n",
    "cv2.waitKey(0)\n",
    "cv2.destroyAllWindows()\n"
   ]
  },
  {
   "cell_type": "code",
   "execution_count": 5,
   "id": "a6e4ff1b",
   "metadata": {},
   "outputs": [],
   "source": [
    "mypath=r'''C:\\Users\\arjun\\OneDrive\\Desktop\\skeleton-head-technology-bone-wallpaper-preview.jpg'''\n",
    "mypath1=r'''C:\\Users\\arjun\\OneDrive\\Desktop\\istockphoto-1409466493-612x612.jpg '''\n",
    "img4=cv2.imread(mypath)\n",
    "img2=cv2.imread(mypath1)\n",
    "\n",
    "\n",
    "img4=cv2.resize(img4,(500,500))\n",
    "\n",
    "img2=cv2.resize(img2,(500,500))\n",
    "\n",
    "new_image=cv2.addWeighted(img4,1,img2,1,1)\n",
    "\n",
    "cv2.imshow(\"orginal_image\",new_image)\n",
    "cv2.waitKey(0)\n",
    "cv2.destroyAllWindows()\n"
   ]
  },
  {
   "cell_type": "code",
   "execution_count": 33,
   "id": "bb69a8ae",
   "metadata": {},
   "outputs": [],
   "source": [
    "# bitvise operator on image\n",
    "import numpy as np\n"
   ]
  },
  {
   "cell_type": "code",
   "execution_count": 34,
   "id": "b6e94901",
   "metadata": {},
   "outputs": [],
   "source": [
    "mypath=r'''C:\\Users\\arjun\\OneDrive\\Desktop\\skeleton-head-technology-bone-wallpaper-preview.jpg'''\n",
    "mypath1=r'''C:\\Users\\arjun\\OneDrive\\Desktop\\istockphoto-1409466493-612x612.jpg '''\n",
    "img4=cv2.imread(mypath)\n",
    "img2=cv2.imread(mypath1)\n",
    "\n",
    "\n",
    "img4=cv2.resize(img4,(500,500))\n",
    "\n",
    "img2=cv2.resize(img2,(500,500))\n",
    "\n",
    "new_image=cv2.bitwise_and(img4,img2)\n",
    "\n",
    "cv2.imshow(\"orginal_image\",new_image)\n",
    "cv2.waitKey(0)\n",
    "cv2.destroyAllWindows()\n"
   ]
  },
  {
   "cell_type": "code",
   "execution_count": 35,
   "id": "65da6b48",
   "metadata": {},
   "outputs": [],
   "source": [
    "mypath=r'''C:\\Users\\arjun\\OneDrive\\Desktop\\skeleton-head-technology-bone-wallpaper-preview.jpg'''\n",
    "mypath1=r'''C:\\Users\\arjun\\OneDrive\\Desktop\\istockphoto-1409466493-612x612.jpg '''\n",
    "img4=cv2.imread(mypath)\n",
    "img2=cv2.imread(mypath1)\n",
    "\n",
    "\n",
    "img4=cv2.resize(img4,(500,500))\n",
    "\n",
    "img2=cv2.resize(img2,(500,500))\n",
    "\n",
    "new_image=cv2.bitwise_and(img4,img2)\n",
    "h=np.hstack(new_image)\n",
    "\n",
    "cv2.imshow(\"orginal_image\",h)\n",
    "cv2.waitKey(0)\n",
    "cv2.destroyAllWindows()\n"
   ]
  },
  {
   "cell_type": "code",
   "execution_count": 36,
   "id": "08feb939",
   "metadata": {},
   "outputs": [],
   "source": [
    "mypath=r'''C:\\Users\\arjun\\OneDrive\\Desktop\\skeleton-head-technology-bone-wallpaper-preview.jpg'''\n",
    "mypath1=r'''C:\\Users\\arjun\\OneDrive\\Desktop\\istockphoto-1409466493-612x612.jpg '''\n",
    "img4=cv2.imread(mypath)\n",
    "img2=cv2.imread(mypath1)\n",
    "\n",
    "\n",
    "img4=cv2.resize(img4,(500,500))\n",
    "\n",
    "img2=cv2.resize(img2,(500,500))\n",
    "\n",
    "new_image=cv2.bitwise_and(img4,img2)\n",
    "h=np.vstack(new_image)\n",
    "\n",
    "cv2.imshow(\"orginal_image\",h)\n",
    "cv2.waitKey(0)\n",
    "cv2.destroyAllWindows()\n"
   ]
  },
  {
   "cell_type": "code",
   "execution_count": 37,
   "id": "8063b2bb",
   "metadata": {},
   "outputs": [],
   "source": [
    "# edge detaction"
   ]
  },
  {
   "cell_type": "code",
   "execution_count": 42,
   "id": "c6e723df",
   "metadata": {},
   "outputs": [
    {
     "name": "stdout",
     "output_type": "stream",
     "text": [
      "(500, 500, 3)\n",
      "(500, 500)\n"
     ]
    }
   ],
   "source": [
    "mypath=r'''C:\\Users\\arjun\\OneDrive\\Desktop\\skeleton-head-technology-bone-wallpaper-preview.jpg'''\n",
    "#mypath1=r'''C:\\Users\\arjun\\OneDrive\\Desktop\\istockphoto-1409466493-612x612.jpg '''\n",
    "img4=cv2.imread(mypath)\n",
    "#img2=cv2.imread(mypath1)\n",
    "\n",
    "\n",
    "img4=cv2.resize(img4,(500,500))\n",
    "\n",
    "#img2=cv2.resize(img2,(500,500))\n",
    "print(img4.shape)\n",
    "new_image=cv2.Canny(img4,50,50)\n",
    "#h=np.vstack(new_image)\n",
    "print(new_image.shape)\n",
    "cv2.imshow(\"orginal_image\",new_image)\n",
    "cv2.waitKey(0)\n",
    "cv2.destroyAllWindows()\n"
   ]
  },
  {
   "cell_type": "code",
   "execution_count": 44,
   "id": "85980d15",
   "metadata": {},
   "outputs": [
    {
     "name": "stdout",
     "output_type": "stream",
     "text": [
      "(500, 500, 3)\n",
      "(500, 500)\n"
     ]
    }
   ],
   "source": [
    "mypath=r'''C:\\Users\\arjun\\OneDrive\\Desktop\\skeleton-head-technology-bone-wallpaper-preview.jpg'''\n",
    "#mypath1=r'''C:\\Users\\arjun\\OneDrive\\Desktop\\istockphoto-1409466493-612x612.jpg '''\n",
    "img4=cv2.imread(mypath)\n",
    "#img2=cv2.imread(mypath1)\n",
    "\n",
    "\n",
    "img4=cv2.resize(img4,(500,500))\n",
    "\n",
    "#img2=cv2.resize(img2,(500,500))\n",
    "print(img4.shape)\n",
    "new_image=cv2.Canny(img4,100,100,apertureSize=5,L2gradient=True)\n",
    "#h=np.vstack(new_image)\n",
    "print(new_image.shape)\n",
    "cv2.imshow(\"orginal_image\",new_image)\n",
    "cv2.waitKey(0)\n",
    "cv2.destroyAllWindows()\n"
   ]
  },
  {
   "cell_type": "code",
   "execution_count": 6,
   "id": "4b5e39f5",
   "metadata": {},
   "outputs": [],
   "source": [
    "mypath=r'''C:\\Users\\arjun\\OneDrive\\Desktop\\skeleton-head-technology-bone-wallpaper-preview.jpg'''\n",
    "img4=cv2.imread(mypath)\n",
    "img4=cv2.resize(img4,(500,500))\n",
    "\n",
    "new_image=cv2.Canny(img4,100,100,apertureSize=5,L2gradient=True)\n",
    "cv2.imshow(\"orginal_image\",new_image)\n",
    "cv2.waitKey(0)\n",
    "cv2.destroyAllWindows()"
   ]
  },
  {
   "cell_type": "code",
   "execution_count": 28,
   "id": "7c2b9a7f",
   "metadata": {},
   "outputs": [],
   "source": [
    "mypath=r'''C:\\Users\\arjun\\OneDrive\\Desktop\\skeleton-head-technology-bone-wallpaper-preview.jpg'''\n",
    "img4=cv2.imread(mypath)\n",
    "img4=cv2.resize(img4,(500,500))\n",
    "w=img4.shape[0]\n",
    "h=img4.shape[1]\n",
    "\n",
    "m=cv2.getRotationMatrix2D((w/2,h/2), 70,1)\n",
    "\n",
    "new_image=cv2.warpAffine(img4, m,(w,h))\n",
    "#print(new_image)\n",
    "\n",
    "cv2.imshow(\"orginal_image\",new_image)\n",
    "cv2.waitKey(0)\n",
    "cv2.destroyAllWindows()"
   ]
  },
  {
   "cell_type": "code",
   "execution_count": 30,
   "id": "938c9937",
   "metadata": {},
   "outputs": [],
   "source": [
    "# blur image"
   ]
  },
  {
   "cell_type": "code",
   "execution_count": 31,
   "id": "338a16ba",
   "metadata": {},
   "outputs": [],
   "source": [
    "mypath=r'''C:\\Users\\arjun\\OneDrive\\Desktop\\skeleton-head-technology-bone-wallpaper-preview.jpg'''\n",
    "img4=cv2.imread(mypath)\n",
    "img4=cv2.resize(img4,(500,500))\n",
    "\n",
    "new_image=cv2.GaussianBlur(img4,(7,7),0)\n",
    "#print(new_image)\n",
    "\n",
    "cv2.imshow(\"orginal_image\",new_image)\n",
    "cv2.waitKey(0)\n",
    "cv2.destroyAllWindows()"
   ]
  },
  {
   "cell_type": "code",
   "execution_count": 34,
   "id": "7f8c5c6e",
   "metadata": {},
   "outputs": [],
   "source": [
    "mypath=r'''C:\\Users\\arjun\\OneDrive\\Desktop\\skeleton-head-technology-bone-wallpaper-preview.jpg'''\n",
    "img4=cv2.imread(mypath)\n",
    "img4=cv2.resize(img4,(500,500))\n",
    "\n",
    "new_image=cv2.medianBlur(img4,3)\n",
    "#print(new_image)\n",
    "\n",
    "cv2.imshow(\"orginal_image\",new_image)\n",
    "cv2.waitKey(0)\n",
    "cv2.destroyAllWindows()"
   ]
  },
  {
   "cell_type": "code",
   "execution_count": 35,
   "id": "9aa9fa4c",
   "metadata": {},
   "outputs": [],
   "source": [
    "mypath=r'''C:\\Users\\arjun\\OneDrive\\Desktop\\skeleton-head-technology-bone-wallpaper-preview.jpg'''\n",
    "img4=cv2.imread(mypath)\n",
    "img4=cv2.resize(img4,(500,500))\n",
    "\n",
    "new_image=cv2.bilateralFilter(img4,9,75,75)\n",
    "#print(new_image)\n",
    "\n",
    "cv2.imshow(\"orginal_image\",new_image)\n",
    "cv2.waitKey(0)\n",
    "cv2.destroyAllWindows()"
   ]
  },
  {
   "cell_type": "code",
   "execution_count": 37,
   "id": "6e1e6c78",
   "metadata": {},
   "outputs": [],
   "source": [
    "mypath=r'''C:\\Users\\arjun\\OneDrive\\Desktop\\skeleton-head-technology-bone-wallpaper-preview.jpg'''\n",
    "img4=cv2.imread(mypath)\n",
    "img4=cv2.resize(img4,(500,500))\n",
    "#print(new_image)\n",
    "\n",
    "cv2.imshow(\"orginal_image\",img4)\n",
    "cv2.waitKey(0)\n",
    "cv2.destroyAllWindows()"
   ]
  },
  {
   "cell_type": "code",
   "execution_count": 38,
   "id": "d5e14ed2",
   "metadata": {},
   "outputs": [],
   "source": [
    "import numpy as np"
   ]
  },
  {
   "cell_type": "code",
   "execution_count": 50,
   "id": "235847ca",
   "metadata": {},
   "outputs": [],
   "source": [
    "# save you file in folder\n",
    "\n",
    "mypath=r'''C:\\Users\\arjun\\OneDrive\\Desktop\\skeleton-head-technology-bone-wallpaper-preview.jpg'''\n",
    "img4=cv2.imread(mypath)\n",
    "img4=cv2.resize(img4,(500,300))\n",
    "\n",
    "h=np.hstack((img4,img4))\n",
    "v=np.vstack((h,h))\n",
    "\n",
    "cv2.imwrite(r'''C:\\Users\\arjun\\OneDrive\\Desktop\\newimage.jpg''',v)\n",
    "cv2.imshow(\"orginal_image\",v)\n",
    "cv2.waitKey(0)\n",
    "cv2.destroyAllWindows()"
   ]
  },
  {
   "cell_type": "code",
   "execution_count": 51,
   "id": "39a7c13d",
   "metadata": {},
   "outputs": [],
   "source": [
    "# make the border in your image"
   ]
  },
  {
   "cell_type": "code",
   "execution_count": 53,
   "id": "3df91f85",
   "metadata": {},
   "outputs": [],
   "source": [
    "mypath=r'''C:\\Users\\arjun\\OneDrive\\Desktop\\skeleton-head-technology-bone-wallpaper-preview.jpg'''\n",
    "img4=cv2.imread(mypath)\n",
    "img4=cv2.resize(img4,(500,300))\n",
    "\n",
    "v=cv2.copyMakeBorder(img4,20,20,20,20,cv2.BORDER_CONSTANT,None,value=2)\n",
    "\n",
    "cv2.imshow(\"orginal_image\",v)\n",
    "cv2.waitKey(0)\n",
    "cv2.destroyAllWindows()"
   ]
  },
  {
   "cell_type": "code",
   "execution_count": null,
   "id": "b6bea068",
   "metadata": {},
   "outputs": [],
   "source": [
    "# video Capture"
   ]
  },
  {
   "cell_type": "code",
   "execution_count": 4,
   "id": "71306a21",
   "metadata": {},
   "outputs": [],
   "source": [
    "cap=cv2.VideoCapture(r\"C:\\Users\\arjun\\Downloads\\production_id_4875313 (2160p).MP4\")\n",
    "\n",
    "while cap.isOpened():\n",
    "    r,frame = cap.read()\n",
    "    if r==True:\n",
    "        frame=cv2.resize(frame,(500,500))\n",
    "        cv2.imshow(\"wscube\",frame)\n",
    "        if cv2.waitKey(35)  & 0xff ==ord(\"p\"):\n",
    "            break\n",
    "    else:\n",
    "        break\n",
    "        \n",
    "cap.release()\n",
    "cv2.destroyAllWindows()                "
   ]
  },
  {
   "cell_type": "code",
   "execution_count": 5,
   "id": "83a776fa",
   "metadata": {},
   "outputs": [],
   "source": [
    "# camera enabel by cv2"
   ]
  },
  {
   "cell_type": "code",
   "execution_count": null,
   "id": "91f063c6",
   "metadata": {},
   "outputs": [],
   "source": []
  }
 ],
 "metadata": {
  "kernelspec": {
   "display_name": "Python 3 (ipykernel)",
   "language": "python",
   "name": "python3"
  },
  "language_info": {
   "codemirror_mode": {
    "name": "ipython",
    "version": 3
   },
   "file_extension": ".py",
   "mimetype": "text/x-python",
   "name": "python",
   "nbconvert_exporter": "python",
   "pygments_lexer": "ipython3",
   "version": "3.10.9"
  }
 },
 "nbformat": 4,
 "nbformat_minor": 5
}
