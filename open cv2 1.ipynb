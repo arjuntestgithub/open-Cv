{
 "cells": [
  {
   "cell_type": "code",
   "execution_count": 1,
   "id": "a5c94667",
   "metadata": {},
   "outputs": [],
   "source": [
    "import cv2"
   ]
  },
  {
   "cell_type": "code",
   "execution_count": null,
   "id": "50d05dab",
   "metadata": {},
   "outputs": [],
   "source": [
    "mypath = r'''C:\\Users\\arjun\\OneDrive\\Desktop\\skeleton-head-technology-bone-wallpaper-preview.jpg'''\n",
    "img = cv2.imread(mypath)\n",
    "cv2.imshow(\"Original image\", img)\n",
    "cv2.imshow(\"Original image3\", img)\n",
    "cv2.imshow(\"Original image2\", img)\n",
    "cv2.imshow(\"Original image1\", img)\n",
    "\n",
    "cv2.waitKey(0)\n",
    "cv2.destroyAllWindows() "
   ]
  },
  {
   "cell_type": "code",
   "execution_count": null,
   "id": "26cf7568",
   "metadata": {},
   "outputs": [],
   "source": []
  },
  {
   "cell_type": "code",
   "execution_count": null,
   "id": "33797df3",
   "metadata": {},
   "outputs": [],
   "source": [
    "mypath = r'''C:\\Users\\arjun\\OneDrive\\Desktop\\skeleton-head-technology-bone-wallpaper-preview.jpg'''\n",
    "img = cv2.imread(mypath)\n",
    "resize=cv2.resize(img,(500,500))\n",
    "cv2.imshow(\"Original image\", resize)\n",
    "\n",
    "cv2.waitKey(0)\n",
    "cv2.destroyAllWindows() "
   ]
  },
  {
   "cell_type": "code",
   "execution_count": null,
   "id": "1ac8e907",
   "metadata": {},
   "outputs": [],
   "source": []
  },
  {
   "cell_type": "code",
   "execution_count": null,
   "id": "a04ecba9",
   "metadata": {},
   "outputs": [],
   "source": [
    "mypath = r'''C:\\Users\\arjun\\OneDrive\\Desktop\\skeleton-head-technology-bone-wallpaper-preview.jpg'''\n",
    "img = cv2.imread(mypath)\n",
    "#resize=cv2.resize(img,(500,500))\n",
    "cv2.imshow(\"Original image\", img)\n",
    "cv2.imshow(\"Original image1\", img)\n",
    "\n",
    "cv2.waitKey(0)\n",
    "cv2.destroyAllWindows() "
   ]
  },
  {
   "cell_type": "code",
   "execution_count": 26,
   "id": "b4eeb8d6",
   "metadata": {},
   "outputs": [],
   "source": [
    "import numpy as np\n",
    "#print(img)"
   ]
  },
  {
   "cell_type": "code",
   "execution_count": 12,
   "id": "4b73b7bc",
   "metadata": {},
   "outputs": [
    {
     "name": "stdout",
     "output_type": "stream",
     "text": [
      "(410, 728, 3)\n"
     ]
    }
   ],
   "source": [
    "print(img.shape)"
   ]
  },
  {
   "cell_type": "code",
   "execution_count": 14,
   "id": "36b2d8ca",
   "metadata": {},
   "outputs": [],
   "source": [
    "img[0]=255"
   ]
  },
  {
   "cell_type": "code",
   "execution_count": null,
   "id": "3997b115",
   "metadata": {},
   "outputs": [],
   "source": []
  },
  {
   "cell_type": "code",
   "execution_count": 23,
   "id": "a530da8c",
   "metadata": {},
   "outputs": [],
   "source": [
    "# combine of two image together\n",
    "\n",
    "mypath = r'''C:\\Users\\arjun\\OneDrive\\Desktop\\skeleton-head-technology-bone-wallpaper-preview.jpg'''\n",
    "img = cv2.imread(mypath)\n",
    "resize=cv2.resize(img,(500,300))\n",
    "h=np.hstack((resize,resize))\n",
    "v=np.vstack((resize,resize))\n",
    "cv2.imshow(\"Original image\",h)\n",
    "\n",
    "cv2.waitKey(0)\n",
    "cv2.destroyAllWindows() "
   ]
  },
  {
   "cell_type": "code",
   "execution_count": 24,
   "id": "f390b1c0",
   "metadata": {},
   "outputs": [],
   "source": [
    "mypath = r'''C:\\Users\\arjun\\OneDrive\\Desktop\\skeleton-head-technology-bone-wallpaper-preview.jpg'''\n",
    "img = cv2.imread(mypath)\n",
    "resize=cv2.resize(img,(500,300))\n",
    "h=np.hstack((resize,resize))\n",
    "v=np.vstack((h,h))\n",
    "cv2.imshow(\"Original image\",v)\n",
    "\n",
    "cv2.waitKey(0)\n",
    "cv2.destroyAllWindows() "
   ]
  },
  {
   "cell_type": "code",
   "execution_count": 25,
   "id": "49fc8e08",
   "metadata": {},
   "outputs": [],
   "source": [
    "mypath = r'''C:\\Users\\arjun\\OneDrive\\Desktop\\skeleton-head-technology-bone-wallpaper-preview.jpg'''\n",
    "img = cv2.imread(mypath)\n",
    "resize=cv2.resize(img,(500,300))\n",
    "h=np.hstack((resize,resize,resize))\n",
    "v=np.vstack((h,h))\n",
    "cv2.imshow(\"Original image\",v)\n",
    "\n",
    "cv2.waitKey(0)\n",
    "cv2.destroyAllWindows() "
   ]
  },
  {
   "cell_type": "code",
   "execution_count": 27,
   "id": "3d9813ee",
   "metadata": {},
   "outputs": [],
   "source": [
    "import os"
   ]
  },
  {
   "cell_type": "code",
   "execution_count": 30,
   "id": "3765434e",
   "metadata": {},
   "outputs": [],
   "source": [
    "abc=os.listdir(r'''E:\\PHOTO\\Sent''')"
   ]
  },
  {
   "cell_type": "code",
   "execution_count": 33,
   "id": "8059b8f8",
   "metadata": {},
   "outputs": [],
   "source": [
    "#abc"
   ]
  },
  {
   "cell_type": "code",
   "execution_count": 40,
   "id": "082d10a3",
   "metadata": {},
   "outputs": [
    {
     "ename": "TypeError",
     "evalue": "'<=' not supported between instances of 'str' and 'int'",
     "output_type": "error",
     "traceback": [
      "\u001b[1;31m---------------------------------------------------------------------------\u001b[0m",
      "\u001b[1;31mTypeError\u001b[0m                                 Traceback (most recent call last)",
      "Cell \u001b[1;32mIn[40], line 2\u001b[0m\n\u001b[0;32m      1\u001b[0m \u001b[38;5;28;01mfor\u001b[39;00m i \u001b[38;5;129;01min\u001b[39;00m abc:\n\u001b[1;32m----> 2\u001b[0m     \u001b[38;5;28;01mif\u001b[39;00m \u001b[43mi\u001b[49m\u001b[38;5;241;43m<\u001b[39;49m\u001b[38;5;241;43m=\u001b[39;49m\u001b[38;5;241;43m25\u001b[39;49m:\n\u001b[0;32m      3\u001b[0m         \u001b[38;5;28mprint\u001b[39m(i)\n",
      "\u001b[1;31mTypeError\u001b[0m: '<=' not supported between instances of 'str' and 'int'"
     ]
    }
   ],
   "source": [
    "for i in abc:\n",
    "    if i<=25:\n",
    "        print(i)\n",
    "    "
   ]
  },
  {
   "cell_type": "code",
   "execution_count": 55,
   "id": "9b7569db",
   "metadata": {},
   "outputs": [
    {
     "ename": "error",
     "evalue": "OpenCV(4.7.0) D:\\a\\opencv-python\\opencv-python\\opencv\\modules\\imgproc\\src\\resize.cpp:4062: error: (-215:Assertion failed) !ssize.empty() in function 'cv::resize'\n",
     "output_type": "error",
     "traceback": [
      "\u001b[1;31m---------------------------------------------------------------------------\u001b[0m",
      "\u001b[1;31merror\u001b[0m                                     Traceback (most recent call last)",
      "Cell \u001b[1;32mIn[55], line 7\u001b[0m\n\u001b[0;32m      5\u001b[0m  adc\u001b[38;5;241m=\u001b[39mpath \u001b[38;5;241m+\u001b[39m \u001b[38;5;124m\"\u001b[39m\u001b[38;5;130;01m\\\\\u001b[39;00m\u001b[38;5;124m\"\u001b[39m\u001b[38;5;241m+\u001b[39m d\n\u001b[0;32m      6\u001b[0m  img \u001b[38;5;241m=\u001b[39m cv2\u001b[38;5;241m.\u001b[39mimread(adc)\n\u001b[1;32m----> 7\u001b[0m  resize\u001b[38;5;241m=\u001b[39m\u001b[43mcv2\u001b[49m\u001b[38;5;241;43m.\u001b[39;49m\u001b[43mresize\u001b[49m\u001b[43m(\u001b[49m\u001b[43mimg\u001b[49m\u001b[43m,\u001b[49m\u001b[43m(\u001b[49m\u001b[38;5;241;43m200\u001b[39;49m\u001b[43m,\u001b[49m\u001b[38;5;241;43m200\u001b[39;49m\u001b[43m)\u001b[49m\u001b[43m)\u001b[49m\n\u001b[0;32m      8\u001b[0m \u001b[38;5;66;03m# h=np.hstack((resize,resize,resize))\u001b[39;00m\n\u001b[0;32m      9\u001b[0m  \u001b[38;5;66;03m#v=np.vstack((h,h))\u001b[39;00m\n\u001b[0;32m     10\u001b[0m  cv2\u001b[38;5;241m.\u001b[39mimshow(\u001b[38;5;124m\"\u001b[39m\u001b[38;5;124mOriginal image\u001b[39m\u001b[38;5;124m\"\u001b[39m,resize)\n",
      "\u001b[1;31merror\u001b[0m: OpenCV(4.7.0) D:\\a\\opencv-python\\opencv-python\\opencv\\modules\\imgproc\\src\\resize.cpp:4062: error: (-215:Assertion failed) !ssize.empty() in function 'cv::resize'\n"
     ]
    }
   ],
   "source": [
    "for i,d in enumerate(abc):\n",
    "    if i<=25:\n",
    "        \n",
    "        path='''E:\\PHOTO\\Sent'''\n",
    "        adc=path + \"\\\\\"+ d\n",
    "        img = cv2.imread(adc)\n",
    "        resize=cv2.resize(img,(200,200))\n",
    "       # h=np.hstack((resize,resize,resize))\n",
    "        #v=np.vstack((h,h))\n",
    "        cv2.imshow(\"Original image\",resize)\n",
    "        cv2.waitKey()\n",
    "    cv2.destroyAllWindows() \n",
    "        \n",
    "    "
   ]
  },
  {
   "cell_type": "code",
   "execution_count": null,
   "id": "0c7003c2",
   "metadata": {},
   "outputs": [],
   "source": [
    "mypath = r'''C:\\Users\\arjun\\OneDrive\\Desktop\\skeleton-head-technology-bone-wallpaper-preview.jpg'''\n",
    "img = cv2.imread(mypath)\n",
    "#resize=cv2.resize(img,(500,500))\n",
    "cv2.imshow(\"Original image\", img)\n",
    "#cv2.imshow(\"Original image1\", img)\n",
    "\n",
    "cv2.waitKey(0)\n",
    "cv2.destroyAllWindows() "
   ]
  },
  {
   "cell_type": "code",
   "execution_count": null,
   "id": "21e52803",
   "metadata": {},
   "outputs": [],
   "source": [
    "import cv2\n",
    "import numpy as np\n",
    "#print(img)\n",
    "\n",
    "print(img)"
   ]
  },
  {
   "cell_type": "code",
   "execution_count": null,
   "id": "00b03bed",
   "metadata": {},
   "outputs": [],
   "source": [
    "img[0]=255"
   ]
  },
  {
   "cell_type": "code",
   "execution_count": null,
   "id": "b6dd65c0",
   "metadata": {},
   "outputs": [],
   "source": [
    "img"
   ]
  },
  {
   "cell_type": "code",
   "execution_count": 61,
   "id": "9badf527",
   "metadata": {},
   "outputs": [],
   "source": [
    "cv2.imshow(\"ars\",img)"
   ]
  },
  {
   "cell_type": "code",
   "execution_count": null,
   "id": "26e8f009",
   "metadata": {},
   "outputs": [],
   "source": []
  }
 ],
 "metadata": {
  "kernelspec": {
   "display_name": "Python 3 (ipykernel)",
   "language": "python",
   "name": "python3"
  },
  "language_info": {
   "codemirror_mode": {
    "name": "ipython",
    "version": 3
   },
   "file_extension": ".py",
   "mimetype": "text/x-python",
   "name": "python",
   "nbconvert_exporter": "python",
   "pygments_lexer": "ipython3",
   "version": "3.10.9"
  }
 },
 "nbformat": 4,
 "nbformat_minor": 5
}
